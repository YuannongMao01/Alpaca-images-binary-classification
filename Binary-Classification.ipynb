{
  "metadata": {
    "kernelspec": {
      "language": "python",
      "display_name": "Python 3",
      "name": "python3"
    },
    "language_info": {
      "name": "python",
      "version": "3.7.12",
      "mimetype": "text/x-python",
      "codemirror_mode": {
        "name": "ipython",
        "version": 3
      },
      "pygments_lexer": "ipython3",
      "nbconvert_exporter": "python",
      "file_extension": ".py"
    },
    "colab": {
      "name": "aipaca-final.ipynb",
      "provenance": [],
      "machine_shape": "hm",
      "collapsed_sections": [
        "nwx9iMSw7-Be",
        "mJHcQRvSmqS6",
        "OGU8HYGrmqTH",
        "1ekd5aiNmqTI",
        "6UYaOXA3MlMF",
        "YNwmR1AzfVPd"
      ],
      "include_colab_link": true
    },
    "accelerator": "GPU"
  },
  "nbformat_minor": 0,
  "nbformat": 4,
  "cells": [
    {
      "cell_type": "markdown",
      "metadata": {
        "id": "view-in-github",
        "colab_type": "text"
      },
      "source": [
        "<a href=\"https://colab.research.google.com/github/YuannongMao01/Alpaca-images-binary-classification/blob/main/Binary-Classification.ipynb\" target=\"_parent\"><img src=\"https://colab.research.google.com/assets/colab-badge.svg\" alt=\"Open In Colab\"/></a>"
      ]
    },
    {
      "cell_type": "markdown",
      "source": [
        "# Alpaca images binary classification by CNN based on tensorflow"
      ],
      "metadata": {
        "id": "AcA5kpvTRVfC"
      }
    },
    {
      "cell_type": "markdown",
      "source": [
        "# Import/ Data Augmentation"
      ],
      "metadata": {
        "id": "lQ_8WrEeReuo"
      }
    },
    {
      "cell_type": "code",
      "source": [
        "import numpy as np\n",
        "import pandas as pd\n",
        "import tensorflow as tf\n",
        "import matplotlib.pyplot as plt\n",
        "from plotly.subplots import make_subplots\n",
        "from tensorflow import keras\n",
        "from tensorflow.keras.preprocessing.image import ImageDataGenerator,array_to_img, img_to_array, load_img\n",
        "from tensorflow.keras.preprocessing import image\n"
      ],
      "metadata": {
        "_uuid": "8f2839f25d086af736a60e9eeb907d3b93b6e0e5",
        "_cell_guid": "b1076dfc-b9ad-4769-8c92-a6c4dae69d19",
        "execution": {
          "iopub.status.busy": "2022-05-17T16:19:00.208175Z",
          "iopub.execute_input": "2022-05-17T16:19:00.208506Z",
          "iopub.status.idle": "2022-05-17T16:19:05.759646Z",
          "shell.execute_reply.started": "2022-05-17T16:19:00.208456Z",
          "shell.execute_reply": "2022-05-17T16:19:05.758815Z"
        },
        "trusted": true,
        "id": "hrVzwxFXmqRy"
      },
      "execution_count": null,
      "outputs": []
    },
    {
      "cell_type": "code",
      "source": [
        "# conncet with google drive\n",
        "from google.colab import drive\n",
        "drive.mount('/content/drive')"
      ],
      "metadata": {
        "colab": {
          "base_uri": "https://localhost:8080/"
        },
        "id": "JJvw3hqhEv8e",
        "outputId": "6ce0da12-7e3a-4374-b422-16c9b06e0beb"
      },
      "execution_count": null,
      "outputs": [
        {
          "output_type": "stream",
          "name": "stdout",
          "text": [
            "Drive already mounted at /content/drive; to attempt to forcibly remount, call drive.mount(\"/content/drive\", force_remount=True).\n"
          ]
        }
      ]
    },
    {
      "cell_type": "code",
      "source": [
        "ds_path = '/content/drive/MyDrive/alpaca_dataset'"
      ],
      "metadata": {
        "execution": {
          "iopub.status.busy": "2022-05-17T16:21:43.565830Z",
          "iopub.execute_input": "2022-05-17T16:21:43.566103Z",
          "iopub.status.idle": "2022-05-17T16:21:43.570504Z",
          "shell.execute_reply.started": "2022-05-17T16:21:43.566075Z",
          "shell.execute_reply": "2022-05-17T16:21:43.569486Z"
        },
        "trusted": true,
        "id": "o4oSORPxmqSX"
      },
      "execution_count": null,
      "outputs": []
    },
    {
      "cell_type": "code",
      "source": [
        "train_generator = ImageDataGenerator(rescale=1./255.)\n",
        "test_generator = ImageDataGenerator(rescale=1./255.,validation_split=.2)"
      ],
      "metadata": {
        "execution": {
          "iopub.status.busy": "2022-05-17T16:21:45.196675Z",
          "iopub.execute_input": "2022-05-17T16:21:45.197246Z",
          "iopub.status.idle": "2022-05-17T16:21:45.205675Z",
          "shell.execute_reply.started": "2022-05-17T16:21:45.197206Z",
          "shell.execute_reply": "2022-05-17T16:21:45.204598Z"
        },
        "trusted": true,
        "id": "M9P4hLpHmqSY"
      },
      "execution_count": null,
      "outputs": []
    },
    {
      "cell_type": "code",
      "source": [
        "train_ds = train_generator.flow_from_directory(ds_path, \n",
        "                                               \n",
        "                                               classes={'not alpaca': 0, \n",
        "                                                        'alpaca': 1},\n",
        "                                               batch_size = 64,\n",
        "                                               class_mode='binary', \n",
        "                                               target_size = (256,256), \n",
        "                                               subset='training')\n",
        "\n",
        "valid_ds = test_generator.flow_from_directory(ds_path, \n",
        "                                              classes={'not alpaca': 0, \n",
        "                                                        'alpaca': 1},\n",
        "                                               batch_size = 64, \n",
        "                                               class_mode='binary', \n",
        "                                               target_size = (256,256), \n",
        "                                               subset='validation')"
      ],
      "metadata": {
        "execution": {
          "iopub.status.busy": "2022-05-17T16:21:48.643023Z",
          "iopub.execute_input": "2022-05-17T16:21:48.643281Z",
          "iopub.status.idle": "2022-05-17T16:21:48.855357Z",
          "shell.execute_reply.started": "2022-05-17T16:21:48.643252Z",
          "shell.execute_reply": "2022-05-17T16:21:48.854026Z"
        },
        "trusted": true,
        "colab": {
          "base_uri": "https://localhost:8080/"
        },
        "id": "b9XW2lQVmqSZ",
        "outputId": "c827aea2-4b38-460f-ea2a-8b10d29c6c01"
      },
      "execution_count": null,
      "outputs": [
        {
          "output_type": "stream",
          "name": "stdout",
          "text": [
            "Found 327 images belonging to 2 classes.\n",
            "Found 65 images belonging to 2 classes.\n"
          ]
        }
      ]
    },
    {
      "cell_type": "code",
      "source": [
        "train_ds.class_indices"
      ],
      "metadata": {
        "colab": {
          "base_uri": "https://localhost:8080/"
        },
        "id": "InL7vs8AHgL4",
        "outputId": "f26cebeb-793a-4a29-ca7d-cf0eb9655d64"
      },
      "execution_count": null,
      "outputs": [
        {
          "output_type": "execute_result",
          "data": {
            "text/plain": [
              "{'alpaca': 1, 'not alpaca': 0}"
            ]
          },
          "metadata": {},
          "execution_count": 7
        }
      ]
    },
    {
      "cell_type": "markdown",
      "source": [
        "# Modeling"
      ],
      "metadata": {
        "id": "A40tnxZCmqSn"
      }
    },
    {
      "cell_type": "code",
      "source": [
        "from keras.models import Sequential\n",
        "from keras.layers import Conv2D, MaxPooling2D\n",
        "from keras.layers import Activation, Dropout, Flatten, Dense\n",
        "from keras.layers import BatchNormalization\n",
        "from tensorflow.keras import layers \n",
        "# from keras_self_attention import SeqSelfAttention\n",
        "# import keras_tuner"
      ],
      "metadata": {
        "id": "4UlInDP0FjNT"
      },
      "execution_count": null,
      "outputs": []
    },
    {
      "cell_type": "code",
      "source": [
        "model = keras.Sequential()\n",
        "\n",
        "# Convolutional layer and maxpool layer 1\n",
        "model.add(Conv2D(filters = 64, kernel_size = (3, 3), activation = 'relu', padding='same', input_shape = ((256,256,3))))\n",
        "model.add(MaxPooling2D(pool_size = (2, 2), strides=(2, 2)))\n",
        "\n",
        "# Convolutional layer and maxpool layer 2\n",
        "model.add(Conv2D(filters = 128, kernel_size = (3, 3), activation = 'relu', padding='same'))\n",
        "model.add(MaxPooling2D(pool_size = (2, 2), strides=(2, 2)))\n",
        "\n",
        "# Convolutional layer and maxpool layer 3\n",
        "model.add(Conv2D(filters = 256, kernel_size = (3, 3), activation = 'relu', padding='same'))\n",
        "model.add(MaxPooling2D(pool_size = (2, 2), strides=(2, 2)))\n",
        "\n",
        "# model.add(SeqSelfAttention(attention_activation='sigmoid'))\n",
        "\n",
        "# Flattening Operation\n",
        "model.add(Flatten())\n",
        "\n",
        "# Fully Connected layer\n",
        "model.add(Dense(units = 512, activation = 'relu'))\n",
        "model.add(Dropout(rate = 0.5))\n",
        "\n",
        "# Output layer\n",
        "model.add(Dense(units = 1,activation='sigmoid'))"
      ],
      "metadata": {
        "execution": {
          "iopub.status.busy": "2022-05-17T16:42:18.265707Z",
          "iopub.execute_input": "2022-05-17T16:42:18.266236Z",
          "iopub.status.idle": "2022-05-17T16:42:18.276892Z",
          "shell.execute_reply.started": "2022-05-17T16:42:18.266191Z",
          "shell.execute_reply": "2022-05-17T16:42:18.275954Z"
        },
        "trusted": true,
        "id": "BV13nZFHmqSo"
      },
      "execution_count": null,
      "outputs": []
    },
    {
      "cell_type": "code",
      "source": [
        "model.compile(optimizer='adam', # optimizer=optimizers.RMSprop(lr=0.001)\n",
        "                      loss=tf.keras.losses.BinaryCrossentropy(),\n",
        "                      metrics=['accuracy'])"
      ],
      "metadata": {
        "execution": {
          "iopub.status.busy": "2022-05-17T16:42:18.356613Z",
          "iopub.execute_input": "2022-05-17T16:42:18.358448Z",
          "iopub.status.idle": "2022-05-17T16:42:18.423254Z",
          "shell.execute_reply.started": "2022-05-17T16:42:18.358396Z",
          "shell.execute_reply": "2022-05-17T16:42:18.422582Z"
        },
        "trusted": true,
        "id": "qEBE-ARpmqSp"
      },
      "execution_count": null,
      "outputs": []
    },
    {
      "cell_type": "code",
      "source": [
        "model.summary()"
      ],
      "metadata": {
        "execution": {
          "iopub.status.busy": "2022-05-17T16:42:18.533984Z",
          "iopub.execute_input": "2022-05-17T16:42:18.534538Z",
          "iopub.status.idle": "2022-05-17T16:42:18.545753Z",
          "shell.execute_reply.started": "2022-05-17T16:42:18.534497Z",
          "shell.execute_reply": "2022-05-17T16:42:18.544980Z"
        },
        "trusted": true,
        "colab": {
          "base_uri": "https://localhost:8080/"
        },
        "id": "gsFd2DitmqSq",
        "outputId": "df3c6459-c7a9-44f2-d980-fffb888a8c2a"
      },
      "execution_count": null,
      "outputs": [
        {
          "output_type": "stream",
          "name": "stdout",
          "text": [
            "Model: \"sequential\"\n",
            "_________________________________________________________________\n",
            " Layer (type)                Output Shape              Param #   \n",
            "=================================================================\n",
            " conv2d (Conv2D)             (None, 256, 256, 64)      1792      \n",
            "                                                                 \n",
            " max_pooling2d (MaxPooling2D  (None, 128, 128, 64)     0         \n",
            " )                                                               \n",
            "                                                                 \n",
            " conv2d_1 (Conv2D)           (None, 128, 128, 128)     73856     \n",
            "                                                                 \n",
            " max_pooling2d_1 (MaxPooling  (None, 64, 64, 128)      0         \n",
            " 2D)                                                             \n",
            "                                                                 \n",
            " conv2d_2 (Conv2D)           (None, 64, 64, 256)       295168    \n",
            "                                                                 \n",
            " max_pooling2d_2 (MaxPooling  (None, 32, 32, 256)      0         \n",
            " 2D)                                                             \n",
            "                                                                 \n",
            " flatten (Flatten)           (None, 262144)            0         \n",
            "                                                                 \n",
            " dense (Dense)               (None, 512)               134218240 \n",
            "                                                                 \n",
            " dropout (Dropout)           (None, 512)               0         \n",
            "                                                                 \n",
            " dense_1 (Dense)             (None, 1)                 513       \n",
            "                                                                 \n",
            "=================================================================\n",
            "Total params: 134,589,569\n",
            "Trainable params: 134,589,569\n",
            "Non-trainable params: 0\n",
            "_________________________________________________________________\n"
          ]
        }
      ]
    },
    {
      "cell_type": "markdown",
      "source": [
        "# Bayesian Optimization Tuner"
      ],
      "metadata": {
        "id": "nwx9iMSw7-Be"
      }
    },
    {
      "cell_type": "code",
      "source": [
        "#! pip install keras-tuner"
      ],
      "metadata": {
        "id": "G0ZwkTYGVgHM"
      },
      "execution_count": null,
      "outputs": []
    },
    {
      "cell_type": "code",
      "source": [
        "# from kerastuner.tuners import BayesianOptimization"
      ],
      "metadata": {
        "id": "DGsebyvF7vzR"
      },
      "execution_count": null,
      "outputs": []
    },
    {
      "cell_type": "code",
      "source": [
        "# Bayesian_Optimization_Tuner = BayesianOptimization(model,\n",
        "#                                                     objective='val_loss',\n",
        "#                                                     max_trials=4)"
      ],
      "metadata": {
        "id": "psoocMeJ9v3w"
      },
      "execution_count": null,
      "outputs": []
    },
    {
      "cell_type": "markdown",
      "source": [
        "# Learning Rate Schedule"
      ],
      "metadata": {
        "id": "xTzTvb9paXMf"
      }
    },
    {
      "cell_type": "code",
      "source": [
        "# lr_schedule = tf.keras.callbacks.LearningRateScheduler(lambda epoch: 1e-8 * 10**(epoch / 20))"
      ],
      "metadata": {
        "id": "_bVwncwRaaws"
      },
      "execution_count": null,
      "outputs": []
    },
    {
      "cell_type": "markdown",
      "source": [
        "#  EarlyStopping "
      ],
      "metadata": {
        "id": "mJHcQRvSmqS6"
      }
    },
    {
      "cell_type": "code",
      "source": [
        "Early_Stopping = tf.keras.callbacks.EarlyStopping(monitor=\"val_loss\",\n",
        "                                                  patience=5,\n",
        "                                                  min_delta=1e-4,\n",
        "                                                  restore_best_weights=True)"
      ],
      "metadata": {
        "execution": {
          "iopub.status.busy": "2022-05-17T16:42:19.467276Z",
          "iopub.execute_input": "2022-05-17T16:42:19.467567Z",
          "iopub.status.idle": "2022-05-17T16:42:19.472647Z",
          "shell.execute_reply.started": "2022-05-17T16:42:19.467535Z",
          "shell.execute_reply": "2022-05-17T16:42:19.471665Z"
        },
        "trusted": true,
        "id": "mNaw-QN3mqS7"
      },
      "execution_count": null,
      "outputs": []
    },
    {
      "cell_type": "markdown",
      "source": [
        "# Train model"
      ],
      "metadata": {
        "id": "OGU8HYGrmqTH"
      }
    },
    {
      "cell_type": "code",
      "source": [
        "history = model.fit(\n",
        "    train_ds,\n",
        "    validation_data=valid_ds,\n",
        "    epochs=50,\n",
        "    callbacks=[Early_Stopping])"
      ],
      "metadata": {
        "execution": {
          "iopub.status.busy": "2022-05-17T16:42:20.121573Z",
          "iopub.execute_input": "2022-05-17T16:42:20.121834Z",
          "iopub.status.idle": "2022-05-17T16:44:50.625343Z",
          "shell.execute_reply.started": "2022-05-17T16:42:20.121807Z",
          "shell.execute_reply": "2022-05-17T16:44:50.624498Z"
        },
        "trusted": true,
        "colab": {
          "base_uri": "https://localhost:8080/"
        },
        "id": "VMFs6PXRmqTI",
        "outputId": "bacc20d6-75ee-4530-fa78-2e368d5681b2"
      },
      "execution_count": null,
      "outputs": [
        {
          "output_type": "stream",
          "name": "stdout",
          "text": [
            "Epoch 1/50\n",
            "6/6 [==============================] - 34s 3s/step - loss: 3.9091 - accuracy: 0.4679 - val_loss: 0.8296 - val_accuracy: 0.4308\n",
            "Epoch 2/50\n",
            "6/6 [==============================] - 8s 1s/step - loss: 0.7334 - accuracy: 0.5046 - val_loss: 0.6925 - val_accuracy: 0.5692\n",
            "Epoch 3/50\n",
            "6/6 [==============================] - 8s 1s/step - loss: 0.6936 - accuracy: 0.5657 - val_loss: 0.6825 - val_accuracy: 0.5692\n",
            "Epoch 4/50\n",
            "6/6 [==============================] - 7s 1s/step - loss: 0.6909 - accuracy: 0.5627 - val_loss: 0.6835 - val_accuracy: 0.5692\n",
            "Epoch 5/50\n",
            "6/6 [==============================] - 8s 1s/step - loss: 0.6937 - accuracy: 0.5749 - val_loss: 0.6724 - val_accuracy: 0.5692\n",
            "Epoch 6/50\n",
            "6/6 [==============================] - 8s 1s/step - loss: 0.6639 - accuracy: 0.5780 - val_loss: 0.6084 - val_accuracy: 0.6615\n",
            "Epoch 7/50\n",
            "6/6 [==============================] - 8s 1s/step - loss: 0.6248 - accuracy: 0.6667 - val_loss: 0.5879 - val_accuracy: 0.6308\n",
            "Epoch 8/50\n",
            "6/6 [==============================] - 7s 1s/step - loss: 0.6100 - accuracy: 0.6330 - val_loss: 0.5958 - val_accuracy: 0.6308\n",
            "Epoch 9/50\n",
            "6/6 [==============================] - 7s 1s/step - loss: 0.6136 - accuracy: 0.5780 - val_loss: 0.5240 - val_accuracy: 0.7538\n",
            "Epoch 10/50\n",
            "6/6 [==============================] - 8s 1s/step - loss: 0.6181 - accuracy: 0.6361 - val_loss: 0.5209 - val_accuracy: 0.7077\n",
            "Epoch 11/50\n",
            "6/6 [==============================] - 8s 1s/step - loss: 0.5596 - accuracy: 0.6453 - val_loss: 0.5081 - val_accuracy: 0.7538\n",
            "Epoch 12/50\n",
            "6/6 [==============================] - 8s 1s/step - loss: 0.5053 - accuracy: 0.7187 - val_loss: 0.4491 - val_accuracy: 0.7231\n",
            "Epoch 13/50\n",
            "6/6 [==============================] - 8s 1s/step - loss: 0.5074 - accuracy: 0.7095 - val_loss: 0.4069 - val_accuracy: 0.7692\n",
            "Epoch 14/50\n",
            "6/6 [==============================] - 7s 1s/step - loss: 0.4454 - accuracy: 0.7462 - val_loss: 0.4084 - val_accuracy: 0.7846\n",
            "Epoch 15/50\n",
            "6/6 [==============================] - 8s 1s/step - loss: 0.4447 - accuracy: 0.7798 - val_loss: 0.3645 - val_accuracy: 0.8000\n",
            "Epoch 16/50\n",
            "6/6 [==============================] - 7s 1s/step - loss: 0.4118 - accuracy: 0.7890 - val_loss: 0.3687 - val_accuracy: 0.8462\n",
            "Epoch 17/50\n",
            "6/6 [==============================] - 8s 1s/step - loss: 0.3984 - accuracy: 0.8043 - val_loss: 0.3242 - val_accuracy: 0.8615\n",
            "Epoch 18/50\n",
            "6/6 [==============================] - 8s 1s/step - loss: 0.3608 - accuracy: 0.8196 - val_loss: 0.2876 - val_accuracy: 0.8615\n",
            "Epoch 19/50\n",
            "6/6 [==============================] - 8s 1s/step - loss: 0.3435 - accuracy: 0.8349 - val_loss: 0.2661 - val_accuracy: 0.9077\n",
            "Epoch 20/50\n",
            "6/6 [==============================] - 8s 1s/step - loss: 0.2800 - accuracy: 0.8869 - val_loss: 0.1987 - val_accuracy: 0.8923\n",
            "Epoch 21/50\n",
            "6/6 [==============================] - 7s 1s/step - loss: 0.3407 - accuracy: 0.8593 - val_loss: 0.2118 - val_accuracy: 0.8923\n",
            "Epoch 22/50\n",
            "6/6 [==============================] - 7s 1s/step - loss: 0.2947 - accuracy: 0.8563 - val_loss: 0.2600 - val_accuracy: 0.9077\n",
            "Epoch 23/50\n",
            "6/6 [==============================] - 8s 1s/step - loss: 0.2892 - accuracy: 0.8899 - val_loss: 0.1873 - val_accuracy: 0.9231\n",
            "Epoch 24/50\n",
            "6/6 [==============================] - 8s 1s/step - loss: 0.2149 - accuracy: 0.8960 - val_loss: 0.1459 - val_accuracy: 0.9538\n",
            "Epoch 25/50\n",
            "6/6 [==============================] - 8s 1s/step - loss: 0.2156 - accuracy: 0.9235 - val_loss: 0.1336 - val_accuracy: 0.9692\n",
            "Epoch 26/50\n",
            "6/6 [==============================] - 7s 1s/step - loss: 0.1857 - accuracy: 0.9358 - val_loss: 0.1544 - val_accuracy: 0.9077\n",
            "Epoch 27/50\n",
            "6/6 [==============================] - 7s 1s/step - loss: 0.1691 - accuracy: 0.9266 - val_loss: 0.1136 - val_accuracy: 0.9692\n",
            "Epoch 28/50\n",
            "6/6 [==============================] - 8s 1s/step - loss: 0.1173 - accuracy: 0.9633 - val_loss: 0.0669 - val_accuracy: 0.9692\n",
            "Epoch 29/50\n",
            "6/6 [==============================] - 8s 1s/step - loss: 0.0861 - accuracy: 0.9511 - val_loss: 0.0488 - val_accuracy: 0.9846\n",
            "Epoch 30/50\n",
            "6/6 [==============================] - 7s 1s/step - loss: 0.0841 - accuracy: 0.9847 - val_loss: 0.0560 - val_accuracy: 0.9846\n",
            "Epoch 31/50\n",
            "6/6 [==============================] - 8s 1s/step - loss: 0.0601 - accuracy: 0.9878 - val_loss: 0.0280 - val_accuracy: 0.9846\n",
            "Epoch 32/50\n",
            "6/6 [==============================] - 8s 1s/step - loss: 0.0787 - accuracy: 0.9786 - val_loss: 0.0182 - val_accuracy: 1.0000\n",
            "Epoch 33/50\n",
            "6/6 [==============================] - 8s 1s/step - loss: 0.0286 - accuracy: 0.9939 - val_loss: 0.0146 - val_accuracy: 1.0000\n",
            "Epoch 34/50\n",
            "6/6 [==============================] - 8s 1s/step - loss: 0.0434 - accuracy: 0.9878 - val_loss: 0.0126 - val_accuracy: 1.0000\n",
            "Epoch 35/50\n",
            "6/6 [==============================] - 7s 1s/step - loss: 0.0190 - accuracy: 1.0000 - val_loss: 0.0129 - val_accuracy: 1.0000\n",
            "Epoch 36/50\n",
            "6/6 [==============================] - 7s 1s/step - loss: 0.0727 - accuracy: 0.9755 - val_loss: 0.0207 - val_accuracy: 1.0000\n",
            "Epoch 37/50\n",
            "6/6 [==============================] - 8s 1s/step - loss: 0.0458 - accuracy: 0.9878 - val_loss: 0.0090 - val_accuracy: 1.0000\n",
            "Epoch 38/50\n",
            "6/6 [==============================] - 7s 1s/step - loss: 0.0301 - accuracy: 0.9939 - val_loss: 0.0061 - val_accuracy: 1.0000\n",
            "Epoch 39/50\n",
            "6/6 [==============================] - 7s 1s/step - loss: 0.0262 - accuracy: 0.9939 - val_loss: 0.0079 - val_accuracy: 1.0000\n",
            "Epoch 40/50\n",
            "6/6 [==============================] - 8s 1s/step - loss: 0.0131 - accuracy: 1.0000 - val_loss: 0.0052 - val_accuracy: 1.0000\n",
            "Epoch 41/50\n",
            "6/6 [==============================] - 8s 1s/step - loss: 0.0068 - accuracy: 1.0000 - val_loss: 0.0035 - val_accuracy: 1.0000\n",
            "Epoch 42/50\n",
            "6/6 [==============================] - 8s 1s/step - loss: 0.0079 - accuracy: 1.0000 - val_loss: 0.0019 - val_accuracy: 1.0000\n",
            "Epoch 43/50\n",
            "6/6 [==============================] - 7s 1s/step - loss: 0.0083 - accuracy: 0.9969 - val_loss: 0.0024 - val_accuracy: 1.0000\n",
            "Epoch 44/50\n",
            "6/6 [==============================] - 7s 1s/step - loss: 0.0189 - accuracy: 0.9969 - val_loss: 0.0037 - val_accuracy: 1.0000\n",
            "Epoch 45/50\n",
            "6/6 [==============================] - 8s 1s/step - loss: 0.0171 - accuracy: 0.9939 - val_loss: 0.0018 - val_accuracy: 1.0000\n",
            "Epoch 46/50\n",
            "6/6 [==============================] - 8s 1s/step - loss: 0.0040 - accuracy: 1.0000 - val_loss: 0.0010 - val_accuracy: 1.0000\n",
            "Epoch 47/50\n",
            "6/6 [==============================] - 8s 1s/step - loss: 0.0055 - accuracy: 1.0000 - val_loss: 6.6264e-04 - val_accuracy: 1.0000\n",
            "Epoch 48/50\n",
            "6/6 [==============================] - 8s 1s/step - loss: 0.0027 - accuracy: 1.0000 - val_loss: 4.1697e-04 - val_accuracy: 1.0000\n",
            "Epoch 49/50\n",
            "6/6 [==============================] - 8s 1s/step - loss: 0.0011 - accuracy: 1.0000 - val_loss: 2.6699e-04 - val_accuracy: 1.0000\n",
            "Epoch 50/50\n",
            "6/6 [==============================] - 7s 1s/step - loss: 0.0016 - accuracy: 1.0000 - val_loss: 1.9055e-04 - val_accuracy: 1.0000\n"
          ]
        }
      ]
    },
    {
      "cell_type": "markdown",
      "source": [
        "# Evaluation "
      ],
      "metadata": {
        "id": "1ekd5aiNmqTI"
      }
    },
    {
      "cell_type": "code",
      "source": [
        "history_dict = history.history\n",
        "print(history_dict.keys())"
      ],
      "metadata": {
        "colab": {
          "base_uri": "https://localhost:8080/"
        },
        "id": "mBSbbPk8srOV",
        "outputId": "3a63d1a3-de89-4de5-82f9-cca77a86b503"
      },
      "execution_count": null,
      "outputs": [
        {
          "output_type": "stream",
          "name": "stdout",
          "text": [
            "dict_keys(['loss', 'accuracy', 'val_loss', 'val_accuracy'])\n"
          ]
        }
      ]
    },
    {
      "cell_type": "code",
      "source": [
        "def plot_history(history, epochs=50):\n",
        "    acc = history.history['accuracy']\n",
        "    val_acc = history.history['val_accuracy']\n",
        "    loss = history.history['loss']\n",
        "    val_loss = history.history['val_loss']\n",
        "    epochs_range = range(len(history.history['loss']))\n",
        "    \n",
        "    plt.figure(figsize=(15, 8))\n",
        "    plt.subplot(1, 2, 1)\n",
        "    plt.plot(epochs_range, acc, label='Training Accuracy')\n",
        "    plt.plot(epochs_range, val_acc, label='Validation Accuracy')\n",
        "    plt.title('Training and Validation Accuracy')\n",
        "\n",
        "    plt.subplot(1, 2, 2)\n",
        "    plt.plot(epochs_range, loss, label='Training Loss')\n",
        "    plt.plot(epochs_range, val_loss, label='Validation Loss')\n",
        "    plt.title('Training and Validation Loss')\n",
        "    plt.show()"
      ],
      "metadata": {
        "execution": {
          "iopub.status.busy": "2022-05-17T16:44:50.626995Z",
          "iopub.execute_input": "2022-05-17T16:44:50.627504Z",
          "iopub.status.idle": "2022-05-17T16:44:50.635570Z",
          "shell.execute_reply.started": "2022-05-17T16:44:50.627464Z",
          "shell.execute_reply": "2022-05-17T16:44:50.634888Z"
        },
        "trusted": true,
        "id": "IRA9kvUomqTI"
      },
      "execution_count": null,
      "outputs": []
    },
    {
      "cell_type": "code",
      "source": [
        "plot_history(history)"
      ],
      "metadata": {
        "execution": {
          "iopub.status.busy": "2022-05-17T16:44:50.636674Z",
          "iopub.execute_input": "2022-05-17T16:44:50.636972Z",
          "iopub.status.idle": "2022-05-17T16:44:50.966909Z",
          "shell.execute_reply.started": "2022-05-17T16:44:50.636937Z",
          "shell.execute_reply": "2022-05-17T16:44:50.966205Z"
        },
        "trusted": true,
        "colab": {
          "base_uri": "https://localhost:8080/",
          "height": 490
        },
        "id": "qF1tbqYBmqTJ",
        "outputId": "1bf93972-68bf-4da2-8117-f1d875e9ea2a"
      },
      "execution_count": null,
      "outputs": [
        {
          "output_type": "display_data",
          "data": {
            "text/plain": [
              "<Figure size 1080x576 with 2 Axes>"
            ],
            "image/png": "[encoded data removed]"
          },
          "metadata": {
            "needs_background": "light"
          }
        }
      ]
    },
    {
      "cell_type": "markdown",
      "source": [
        "# Prediction"
      ],
      "metadata": {
        "id": "6UYaOXA3MlMF"
      }
    },
    {
      "cell_type": "code",
      "source": [
        "def predict_result(image_directory):\n",
        "    test_image = image.load_img(image_directory, target_size = (256, 256))\n",
        "    test_image = image.img_to_array(test_image)\n",
        "    test_image = np.expand_dims(test_image, axis = 0)\n",
        "    result = model.predict(test_image)\n",
        "    return (result[0][0] >= 0.5).astype(np.int16)"
      ],
      "metadata": {
        "id": "v98X8hUnMom-"
      },
      "execution_count": null,
      "outputs": []
    },
    {
      "cell_type": "code",
      "source": [
        "predict_result('/content/drive/MyDrive/alpaca_dataset/alpaca/01ad3ff1d94eb557.jpg')"
      ],
      "metadata": {
        "colab": {
          "base_uri": "https://localhost:8080/"
        },
        "id": "UwYjFM1RM7s6",
        "outputId": "fb3b17cb-0d41-444f-9544-51031302c9fc"
      },
      "execution_count": null,
      "outputs": [
        {
          "output_type": "execute_result",
          "data": {
            "text/plain": [
              "1"
            ]
          },
          "metadata": {},
          "execution_count": 19
        }
      ]
    },
    {
      "cell_type": "markdown",
      "source": [
        "# Saving the Model"
      ],
      "metadata": {
        "id": "isb6yYhTKAiw"
      }
    },
    {
      "cell_type": "code",
      "source": [
        "# from keras.models import load_model\n",
        "\n",
        "# model.save('/content/drive/MyDrive/aipaca_cnn_model') "
      ],
      "metadata": {
        "colab": {
          "base_uri": "https://localhost:8080/"
        },
        "id": "fnG0hCj7Ka7v",
        "outputId": "91062b28-0ac9-4a89-92bb-6429aba80c98"
      },
      "execution_count": null,
      "outputs": [
        {
          "output_type": "stream",
          "name": "stdout",
          "text": [
            "INFO:tensorflow:Assets written to: /content/drive/MyDrive/aipaca_cnn_model/assets\n"
          ]
        }
      ]
    },
    {
      "cell_type": "markdown",
      "source": [
        "# Predict\n"
      ],
      "metadata": {
        "id": "N3U4CHqQSjxZ"
      }
    },
    {
      "cell_type": "code",
      "source": [
        "import os\n",
        "\n",
        "def load_model():\n",
        "    # TODO: replace the random model to your owns\n",
        "    model = predict_result\n",
        "    return model\n",
        "\n",
        "def run(model) -> dict:\n",
        "    # You should read image from data folder and return model prediction results\n",
        "    # 0 represents non-alpaca\n",
        "    # 1 represents alpaca\n",
        "    # The return needs to be a dictionary of binaries\n",
        "    results = {}\n",
        "    for f in os.listdir('/content/drive/MyDrive/alpaca_dataset/not alpaca'):\n",
        "      f= os.path.join('/content/drive/MyDrive/alpaca_dataset/not alpaca', f)\n",
        "      results[f] = model(f)\n",
        "    return results\n",
        "\n",
        "if __name__ == '__main__':\n",
        "    print(run(load_model()))"
      ],
      "metadata": {
        "colab": {
          "base_uri": "https://localhost:8080/"
        },
        "id": "Nsbc8T68owZI",
        "outputId": "3f09fec0-3599-4f96-a10f-067727ae3016"
      },
      "execution_count": null,
      "outputs": [
        {
          "output_type": "stream",
          "name": "stdout",
          "text": [
            "{'/content/drive/MyDrive/alpaca_dataset/not alpaca/1a28f50fd6481aba.jpg': 0, '/content/drive/MyDrive/alpaca_dataset/not alpaca/1bf6f04cc03de112.jpg': 0, '/content/drive/MyDrive/alpaca_dataset/not alpaca/1b95df0c40a9c76e.jpg': 0, '/content/drive/MyDrive/alpaca_dataset/not alpaca/16adabd2abbebfe5.jpg': 0, '/content/drive/MyDrive/alpaca_dataset/not alpaca/002bdaf1c177effd.jpg': 0, '/content/drive/MyDrive/alpaca_dataset/not alpaca/0155b267ade95d1e.jpg': 0, '/content/drive/MyDrive/alpaca_dataset/not alpaca/1bc054abb20af1b1.jpg': 0, '/content/drive/MyDrive/alpaca_dataset/not alpaca/1a9f3772a8c6adce.jpg': 1, '/content/drive/MyDrive/alpaca_dataset/not alpaca/02d719f22cb37d9c.jpg': 0, '/content/drive/MyDrive/alpaca_dataset/not alpaca/01b33e3057a05795.jpg': 0, '/content/drive/MyDrive/alpaca_dataset/not alpaca/0fc535824f6e3b56.jpg': 0, '/content/drive/MyDrive/alpaca_dataset/not alpaca/0df78ee76bafd3a9.jpg': 0, '/content/drive/MyDrive/alpaca_dataset/not alpaca/0f2538c208006d3d.jpg': 0, '/content/drive/MyDrive/alpaca_dataset/not alpaca/0f6c1a6bb724c9bb.jpg': 1, '/content/drive/MyDrive/alpaca_dataset/not alpaca/0ff3adf2084ca670.jpg': 0, '/content/drive/MyDrive/alpaca_dataset/not alpaca/03d2ca0be43bf800.jpg': 0, '/content/drive/MyDrive/alpaca_dataset/not alpaca/0a85e62973f2bcf6.jpg': 0, '/content/drive/MyDrive/alpaca_dataset/not alpaca/0cc158ea5f7dd1b2.jpg': 0, '/content/drive/MyDrive/alpaca_dataset/not alpaca/07e64bb137734dbf.jpg': 0, '/content/drive/MyDrive/alpaca_dataset/not alpaca/1c68ec73964a0332.jpg': 0, '/content/drive/MyDrive/alpaca_dataset/not alpaca/079e864735144122.jpg': 0, '/content/drive/MyDrive/alpaca_dataset/not alpaca/04af0dc0511cb98d.jpg': 0, '/content/drive/MyDrive/alpaca_dataset/not alpaca/0fd92c490a73d328.jpg': 0, '/content/drive/MyDrive/alpaca_dataset/not alpaca/060e6719ae46dea6.jpg': 0, '/content/drive/MyDrive/alpaca_dataset/not alpaca/14a5ee33405dfa64.jpg': 0, '/content/drive/MyDrive/alpaca_dataset/not alpaca/1bd6359d31c0afb0.jpg': 0, '/content/drive/MyDrive/alpaca_dataset/not alpaca/10f2a0bebe1e4b13.jpg': 0, '/content/drive/MyDrive/alpaca_dataset/not alpaca/04e79e5f419a711a.jpg': 0, '/content/drive/MyDrive/alpaca_dataset/not alpaca/02a85c813ef1e30f.jpg': 0, '/content/drive/MyDrive/alpaca_dataset/not alpaca/05d7d61e5e8a8169.jpg': 0, '/content/drive/MyDrive/alpaca_dataset/not alpaca/14a3b93479520914.jpg': 0, '/content/drive/MyDrive/alpaca_dataset/not alpaca/0fb433aa35b7d44a.jpg': 1, '/content/drive/MyDrive/alpaca_dataset/not alpaca/0f899aca6d0fb6e1.jpg': 1, '/content/drive/MyDrive/alpaca_dataset/not alpaca/073f21a5b0fa62dc.jpg': 0, '/content/drive/MyDrive/alpaca_dataset/not alpaca/0e908c10c31c54d5.jpg': 0, '/content/drive/MyDrive/alpaca_dataset/not alpaca/02f783a758aec795.jpg': 0, '/content/drive/MyDrive/alpaca_dataset/not alpaca/0f4903fbd0a5fb22.jpg': 0, '/content/drive/MyDrive/alpaca_dataset/not alpaca/1baa67b7a05a87c6.jpg': 0, '/content/drive/MyDrive/alpaca_dataset/not alpaca/01d083ee3908cbc2.jpg': 0, '/content/drive/MyDrive/alpaca_dataset/not alpaca/1adb33dc487101a8.jpg': 0, '/content/drive/MyDrive/alpaca_dataset/not alpaca/0beb68cc85f20f4c.jpg': 1, '/content/drive/MyDrive/alpaca_dataset/not alpaca/1cca48c57103a42c.jpg': 0, '/content/drive/MyDrive/alpaca_dataset/not alpaca/0c00c86cca098160.jpg': 0, '/content/drive/MyDrive/alpaca_dataset/not alpaca/15d276d673cf5de5.jpg': 0, '/content/drive/MyDrive/alpaca_dataset/not alpaca/1aa1ff24b8e00fc1.jpg': 0, '/content/drive/MyDrive/alpaca_dataset/not alpaca/028955b87770e194.jpg': 0, '/content/drive/MyDrive/alpaca_dataset/not alpaca/1b6ec31f40024959.jpg': 0, '/content/drive/MyDrive/alpaca_dataset/not alpaca/1a6edbe4ab6efe39.jpg': 0, '/content/drive/MyDrive/alpaca_dataset/not alpaca/17c823ab5eeb6a69.jpg': 0, '/content/drive/MyDrive/alpaca_dataset/not alpaca/127ce2dec6c6978f.jpg': 0, '/content/drive/MyDrive/alpaca_dataset/not alpaca/0e656ab17f715b23.jpg': 0, '/content/drive/MyDrive/alpaca_dataset/not alpaca/17aa9d00d16ef360.jpg': 1, '/content/drive/MyDrive/alpaca_dataset/not alpaca/1c44020301713235.jpg': 0, '/content/drive/MyDrive/alpaca_dataset/not alpaca/02b086c4e96396f6.jpg': 0, '/content/drive/MyDrive/alpaca_dataset/not alpaca/0fdc557255deba01.jpg': 0, '/content/drive/MyDrive/alpaca_dataset/not alpaca/039dfd67a8e053b8.jpg': 0, '/content/drive/MyDrive/alpaca_dataset/not alpaca/2f69ff5d8f81048a.jpg': 0, '/content/drive/MyDrive/alpaca_dataset/not alpaca/1e2245b5770a892b.jpg': 0, '/content/drive/MyDrive/alpaca_dataset/not alpaca/1efa95b73315e2c8.jpg': 0, '/content/drive/MyDrive/alpaca_dataset/not alpaca/3d77555f2ede0b38.jpg': 0, '/content/drive/MyDrive/alpaca_dataset/not alpaca/3aff4b30230d6c81.jpg': 0, '/content/drive/MyDrive/alpaca_dataset/not alpaca/34d2f34ce7edc12c.jpg': 0, '/content/drive/MyDrive/alpaca_dataset/not alpaca/1d79ae5b5606d6e6.jpg': 0, '/content/drive/MyDrive/alpaca_dataset/not alpaca/4fb7e9ca4317139f.jpg': 0, '/content/drive/MyDrive/alpaca_dataset/not alpaca/48f7992c2ca04cde.jpg': 1, '/content/drive/MyDrive/alpaca_dataset/not alpaca/3d4879382be8059e.jpg': 0, '/content/drive/MyDrive/alpaca_dataset/not alpaca/2039ad72760129b7.jpg': 0, '/content/drive/MyDrive/alpaca_dataset/not alpaca/60411cfa2d4c0d21.jpg': 0, '/content/drive/MyDrive/alpaca_dataset/not alpaca/5e4722478ab9c699.jpg': 0, '/content/drive/MyDrive/alpaca_dataset/not alpaca/2f66bb4b05d593e4.jpg': 0, '/content/drive/MyDrive/alpaca_dataset/not alpaca/217b1cf5a47223cc.jpg': 0, '/content/drive/MyDrive/alpaca_dataset/not alpaca/25c9bd30fdfb944a.jpg': 1, '/content/drive/MyDrive/alpaca_dataset/not alpaca/6fb63629b7fb60e0.jpg': 0, '/content/drive/MyDrive/alpaca_dataset/not alpaca/4fcee0e067c2cd53.jpg': 0, '/content/drive/MyDrive/alpaca_dataset/not alpaca/2cf519588ba4de8f.jpg': 0, '/content/drive/MyDrive/alpaca_dataset/not alpaca/2ca16f153f12a489.jpg': 0, '/content/drive/MyDrive/alpaca_dataset/not alpaca/45437473d608dab5.jpg': 0, '/content/drive/MyDrive/alpaca_dataset/not alpaca/6c413bd13881e4ea.jpg': 0, '/content/drive/MyDrive/alpaca_dataset/not alpaca/23d1d39d81d411da.jpg': 0, '/content/drive/MyDrive/alpaca_dataset/not alpaca/7ab223c07b599b73.jpg': 0, '/content/drive/MyDrive/alpaca_dataset/not alpaca/2ccb101fd96258b0.jpg': 0, '/content/drive/MyDrive/alpaca_dataset/not alpaca/24c7990ef69d8afa.jpg': 0, '/content/drive/MyDrive/alpaca_dataset/not alpaca/61bd08bf28568de6.jpg': 1, '/content/drive/MyDrive/alpaca_dataset/not alpaca/2a0b733becad868d.jpg': 0, '/content/drive/MyDrive/alpaca_dataset/not alpaca/6ec6d8ddcce0de4f.jpg': 0, '/content/drive/MyDrive/alpaca_dataset/not alpaca/7355d53dfbb9124c.jpg': 0, '/content/drive/MyDrive/alpaca_dataset/not alpaca/2a09cd865bac64cc.jpg': 0, '/content/drive/MyDrive/alpaca_dataset/not alpaca/2d36fd890dcab16a.jpg': 0, '/content/drive/MyDrive/alpaca_dataset/not alpaca/2cf9d88c613cb98a.jpg': 1, '/content/drive/MyDrive/alpaca_dataset/not alpaca/7747e3fcd1ab33a5.jpg': 0, '/content/drive/MyDrive/alpaca_dataset/not alpaca/57c6dbadc2b1fbf5.jpg': 0, '/content/drive/MyDrive/alpaca_dataset/not alpaca/81ad5f10f6d72225.jpg': 0, '/content/drive/MyDrive/alpaca_dataset/not alpaca/2ab74cc6cebb34d4.jpg': 0, '/content/drive/MyDrive/alpaca_dataset/not alpaca/4a7d2a3ca0e06cc0.jpg': 1, '/content/drive/MyDrive/alpaca_dataset/not alpaca/7e838bcfab6fd1fb.jpg': 0, '/content/drive/MyDrive/alpaca_dataset/not alpaca/2c81ca60b9f0a930.jpg': 0, '/content/drive/MyDrive/alpaca_dataset/not alpaca/38a0f94d389dcdd0.jpg': 0, '/content/drive/MyDrive/alpaca_dataset/not alpaca/25d02dd62c49b6c5.jpg': 0, '/content/drive/MyDrive/alpaca_dataset/not alpaca/1fa809bf6cf5ea36.jpg': 0, '/content/drive/MyDrive/alpaca_dataset/not alpaca/4ed094f11037b059.jpg': 0, '/content/drive/MyDrive/alpaca_dataset/not alpaca/7d8bf3ff2ae7948e.jpg': 0, '/content/drive/MyDrive/alpaca_dataset/not alpaca/2bc5ca47452b4680.jpg': 0, '/content/drive/MyDrive/alpaca_dataset/not alpaca/6065fe5123ab7cd3.jpg': 0, '/content/drive/MyDrive/alpaca_dataset/not alpaca/77d8f1427530d52c.jpg': 0, '/content/drive/MyDrive/alpaca_dataset/not alpaca/2bb5fde28c180d05.jpg': 1, '/content/drive/MyDrive/alpaca_dataset/not alpaca/5e830fe59b9ec953.jpg': 1, '/content/drive/MyDrive/alpaca_dataset/not alpaca/512715c6bcdf90e8.jpg': 0, '/content/drive/MyDrive/alpaca_dataset/not alpaca/4da08f242d574587.jpg': 0, '/content/drive/MyDrive/alpaca_dataset/not alpaca/41eac01bc6b866b7.jpg': 0, '/content/drive/MyDrive/alpaca_dataset/not alpaca/6f17ca59af5a6188.jpg': 0, '/content/drive/MyDrive/alpaca_dataset/not alpaca/809742431930a66e.jpg': 0, '/content/drive/MyDrive/alpaca_dataset/not alpaca/2cfb2f48a369e3d9.jpg': 0, '/content/drive/MyDrive/alpaca_dataset/not alpaca/39c36229c73bc4e2.jpg': 0, '/content/drive/MyDrive/alpaca_dataset/not alpaca/1e68193d8352acc0.jpg': 0, '/content/drive/MyDrive/alpaca_dataset/not alpaca/2a8582935000680e.jpg': 0, '/content/drive/MyDrive/alpaca_dataset/not alpaca/5745da51d2200d2f.jpg': 0, '/content/drive/MyDrive/alpaca_dataset/not alpaca/5eb81d43b38e1333.jpg': 0, '/content/drive/MyDrive/alpaca_dataset/not alpaca/8311dc486dbf1619.jpg': 0, '/content/drive/MyDrive/alpaca_dataset/not alpaca/4a991ce49d7bb11e.jpg': 0, '/content/drive/MyDrive/alpaca_dataset/not alpaca/23340e0a6c0c9ef8.jpg': 1, '/content/drive/MyDrive/alpaca_dataset/not alpaca/2c5c874ad57764af.jpg': 0, '/content/drive/MyDrive/alpaca_dataset/not alpaca/7a72a21bee79c2ed.jpg': 0, '/content/drive/MyDrive/alpaca_dataset/not alpaca/4c46fb5f52f28c21.jpg': 0, '/content/drive/MyDrive/alpaca_dataset/not alpaca/23bf858cb1d0ef63.jpg': 0, '/content/drive/MyDrive/alpaca_dataset/not alpaca/2bac9dc5d3820f94.jpg': 0, '/content/drive/MyDrive/alpaca_dataset/not alpaca/2cf16a85ea29a540.jpg': 0, '/content/drive/MyDrive/alpaca_dataset/not alpaca/2aa2750b87cdc3d6.jpg': 0, '/content/drive/MyDrive/alpaca_dataset/not alpaca/2c075189b105430b.jpg': 0, '/content/drive/MyDrive/alpaca_dataset/not alpaca/207772d49ccca4f9.jpg': 0, '/content/drive/MyDrive/alpaca_dataset/not alpaca/6b6a4111777e0ccf.jpg': 0, '/content/drive/MyDrive/alpaca_dataset/not alpaca/6eceaff29e2513d4.jpg': 0, '/content/drive/MyDrive/alpaca_dataset/not alpaca/2cb74ee0c15aa4fd.jpg': 0, '/content/drive/MyDrive/alpaca_dataset/not alpaca/1f6bad0f9250c18c.jpg': 0, '/content/drive/MyDrive/alpaca_dataset/not alpaca/2a6a982aabc0b3a8.jpg': 0, '/content/drive/MyDrive/alpaca_dataset/not alpaca/41dab290c7fdd400.jpg': 1, '/content/drive/MyDrive/alpaca_dataset/not alpaca/28e89dd91a538cd6.jpg': 0, '/content/drive/MyDrive/alpaca_dataset/not alpaca/5a71db307230880e.jpg': 0, '/content/drive/MyDrive/alpaca_dataset/not alpaca/4b9ef3ce2685ee32.jpg': 1, '/content/drive/MyDrive/alpaca_dataset/not alpaca/38dc42acf397cee4.jpg': 0, '/content/drive/MyDrive/alpaca_dataset/not alpaca/3ef9a8ea639d0d2f.jpg': 0, '/content/drive/MyDrive/alpaca_dataset/not alpaca/8a420e88deb2d6f2.jpg': 0, '/content/drive/MyDrive/alpaca_dataset/not alpaca/9e2f4b02a0f8fba4.jpg': 0, '/content/drive/MyDrive/alpaca_dataset/not alpaca/de6651eb6cb462ad.jpg': 0, '/content/drive/MyDrive/alpaca_dataset/not alpaca/eb4f5968c7866a3e.jpg': 0, '/content/drive/MyDrive/alpaca_dataset/not alpaca/bfdc9ae0023e63ca.jpg': 0, '/content/drive/MyDrive/alpaca_dataset/not alpaca/c61700049325c9f5.jpg': 0, '/content/drive/MyDrive/alpaca_dataset/not alpaca/bead74f801278703.jpg': 0, '/content/drive/MyDrive/alpaca_dataset/not alpaca/f4495f8511553631.jpg': 1, '/content/drive/MyDrive/alpaca_dataset/not alpaca/8da0dbb30f0d014a.jpg': 0, '/content/drive/MyDrive/alpaca_dataset/not alpaca/8b5c3f36d11757d6.jpg': 0, '/content/drive/MyDrive/alpaca_dataset/not alpaca/8c8232e6e1a2bd1d.jpg': 0, '/content/drive/MyDrive/alpaca_dataset/not alpaca/f8e3dd41b584f645.jpg': 0, '/content/drive/MyDrive/alpaca_dataset/not alpaca/9695991da3e0e418.jpg': 0, '/content/drive/MyDrive/alpaca_dataset/not alpaca/b0158c163e8e7845.jpg': 0, '/content/drive/MyDrive/alpaca_dataset/not alpaca/9e411cef88b11bb7.jpg': 0, '/content/drive/MyDrive/alpaca_dataset/not alpaca/c54d6d9237218d3e.jpg': 0, '/content/drive/MyDrive/alpaca_dataset/not alpaca/ca8ecb09ff49c01f.jpg': 0, '/content/drive/MyDrive/alpaca_dataset/not alpaca/84c540da3f9e5436.jpg': 0, '/content/drive/MyDrive/alpaca_dataset/not alpaca/d0ae7b86f30a2f57.jpg': 0, '/content/drive/MyDrive/alpaca_dataset/not alpaca/f8d3c3d8be68c4fd.jpg': 0, '/content/drive/MyDrive/alpaca_dataset/not alpaca/d69c9472fb287dec.jpg': 0, '/content/drive/MyDrive/alpaca_dataset/not alpaca/c4f295f88135965a.jpg': 0, '/content/drive/MyDrive/alpaca_dataset/not alpaca/ccc5e36fda0d6c73.jpg': 0, '/content/drive/MyDrive/alpaca_dataset/not alpaca/8c3a0db73abdfed4.jpg': 0, '/content/drive/MyDrive/alpaca_dataset/not alpaca/8f7e6728e105904a.jpg': 0, '/content/drive/MyDrive/alpaca_dataset/not alpaca/97049cc74b9c29b1.jpg': 0, '/content/drive/MyDrive/alpaca_dataset/not alpaca/d2683d20f6d31074.jpg': 0, '/content/drive/MyDrive/alpaca_dataset/not alpaca/cfe0b95389dd929b.jpg': 0, '/content/drive/MyDrive/alpaca_dataset/not alpaca/eb4d2e0c0252fdc2.jpg': 0, '/content/drive/MyDrive/alpaca_dataset/not alpaca/cda583bc7f12bd64.jpg': 0, '/content/drive/MyDrive/alpaca_dataset/not alpaca/9ba6a9768c1c82e6.jpg': 0, '/content/drive/MyDrive/alpaca_dataset/not alpaca/d1064db81d24e6d9.jpg': 0, '/content/drive/MyDrive/alpaca_dataset/not alpaca/c113ba6b804b41c4.jpg': 0, '/content/drive/MyDrive/alpaca_dataset/not alpaca/cd2936244741d3e0.jpg': 0, '/content/drive/MyDrive/alpaca_dataset/not alpaca/8766142369109e74.jpg': 0, '/content/drive/MyDrive/alpaca_dataset/not alpaca/e639ca5392e29a02.jpg': 0, '/content/drive/MyDrive/alpaca_dataset/not alpaca/9abdf147aa9949fe.jpg': 0, '/content/drive/MyDrive/alpaca_dataset/not alpaca/a7d62c206e21b0a6.jpg': 0, '/content/drive/MyDrive/alpaca_dataset/not alpaca/d29ef283c7a46baa.jpg': 0, '/content/drive/MyDrive/alpaca_dataset/not alpaca/c00a1679ce2d06bf.jpg': 0, '/content/drive/MyDrive/alpaca_dataset/not alpaca/eb2249c245043547.jpg': 0, '/content/drive/MyDrive/alpaca_dataset/not alpaca/afaba8da98a9caf1.jpg': 0, '/content/drive/MyDrive/alpaca_dataset/not alpaca/9a663969742ef91e.jpg': 0, '/content/drive/MyDrive/alpaca_dataset/not alpaca/bc3c94770cdc05d8.jpg': 0, '/content/drive/MyDrive/alpaca_dataset/not alpaca/a2da2542921227ae.jpg': 0}\n"
          ]
        }
      ]
    },
    {
      "cell_type": "code",
      "source": [
        ""
      ],
      "metadata": {
        "id": "dVRyr07ds-cN"
      },
      "execution_count": null,
      "outputs": []
    }
  ]
}